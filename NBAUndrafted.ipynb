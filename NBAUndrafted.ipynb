{
 "cells": [
  {
   "cell_type": "code",
   "execution_count": 1,
   "metadata": {},
   "outputs": [],
   "source": [
    "\"\"\"\n",
    "Notebook to scrape all undrafted players to play in the NBA to find average \n",
    "amount of undrafted players per season. This information is not used at this time in the model.\n",
    "\"\"\"\n",
    "import requests\n",
    "from bs4 import BeautifulSoup\n",
    "from urllib.parse import urljoin"
   ]
  },
  {
   "cell_type": "code",
   "execution_count": 2,
   "metadata": {},
   "outputs": [],
   "source": [
    "url = 'https://en.wikipedia.org/wiki/List_of_undrafted_NBA_players'\n",
    "html = requests.get(url)\n",
    "s = BeautifulSoup(html.content, 'html.parser')\n"
   ]
  },
  {
   "cell_type": "code",
   "execution_count": 3,
   "metadata": {},
   "outputs": [],
   "source": [
    "annual_undrafted = {}\n",
    "table = s.find('table', {'class': 'wikitable sortable sortable'})\n",
    "\n",
    "if not table:\n",
    "    print(\"No table found with given class\")\n",
    "else:\n",
    "    tbody = table.find('tbody')\n",
    "    if not tbody:\n",
    "        print(\"No tbody element found in given table\")\n",
    "    else:\n",
    "        rows = tbody.findAll('tr')\n",
    "        count = 0\n",
    "        previous_id=None\n",
    "        \n",
    "        for row in rows:\n",
    "            if row.get('id'):\n",
    "                if previous_id is not None:\n",
    "                    annual_undrafted[previous_id] = count\n",
    "                previous_id = int(row.get('id'))\n",
    "                count = 0\n",
    "            count += 1\n",
    "        \n",
    "        if previous_id is not None:\n",
    "            annual_undrafted[previous_id] = count\n",
    "\n",
    "with open('undrafted_script.py', 'w') as f:\n",
    "    f.write(f\"annual_undrafted = {annual_undrafted}\")\n"
   ]
  },
  {
   "cell_type": "code",
   "execution_count": null,
   "metadata": {},
   "outputs": [],
   "source": []
  }
 ],
 "metadata": {
  "kernelspec": {
   "display_name": "Python 3",
   "language": "python",
   "name": "python3"
  },
  "language_info": {
   "codemirror_mode": {
    "name": "ipython",
    "version": 3
   },
   "file_extension": ".py",
   "mimetype": "text/x-python",
   "name": "python",
   "nbconvert_exporter": "python",
   "pygments_lexer": "ipython3",
   "version": "3.11.4"
  }
 },
 "nbformat": 4,
 "nbformat_minor": 2
}
